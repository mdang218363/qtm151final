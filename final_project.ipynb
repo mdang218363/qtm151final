{
 "cells": [
  {
   "cell_type": "markdown",
   "metadata": {},
   "source": [
    "# <span style=\"color:darkblue\"> QTM 151 - Final Project </span>"
   ]
  },
  {
   "cell_type": "markdown",
   "metadata": {},
   "source": [
    "Formula 1, or also known as F1, is the world's most popular motorsport racing circuit. The best drivers around the world sign with teams to compete, all with their own special cars and pit crews to give them a competitive edge. For example, Lewis Hamilton recently signed with Ferrari, and now competes under Ferrari's name. In order to get a better understanding of race times in F1, we decided to do our project on Time Analysis Tables. There are many variables that correlate to times, such as pit stop durations, time trends over different race events, and how times have improved over time due to technology and the sharpening of driver skill. "
   ]
  },
  {
   "cell_type": "code",
   "execution_count": null,
   "metadata": {},
   "outputs": [
    {
     "name": "stdout",
     "output_type": "stream",
     "text": [
      "Grace Chen, Matthew Dang, Lynne Zheng\n"
     ]
    }
   ],
   "source": [
    "import pandas as pd\n",
    "import matplotlib.pyplot as plt\n",
    "import numpy as np\n",
    "import statsmodels.api as sm\n",
    "import statsmodels.formula.api as smf\n",
    "import os\n",
    "print(\"Grace Chen, Matthew Dang, Lynne Zheng\")"
   ]
  },
  {
   "cell_type": "markdown",
   "metadata": {},
   "source": [
    "# <span style=\"color:darkblue\"> II. Introduction </span>"
   ]
  },
  {
   "cell_type": "code",
   "execution_count": null,
   "metadata": {},
   "outputs": [],
   "source": [
    "#  A markdown text with 1-2 paragraph that summarize the main goals of the project. The first paragraph should briefly describe what Formula 1 is, what\n",
    "# question you’re interested in, and why it is relevant. The introduction should end\n",
    "# with a high-level description of the results and the coming structure of the\n",
    "# project. Try to make the text self-contained, intended for someone who isn’t\n",
    "# familiar with Formula 1 or the dataset."
   ]
  },
  {
   "cell_type": "markdown",
   "metadata": {},
   "source": [
    "# <span style=\"color:darkblue\"> III. Data Description </span>"
   ]
  },
  {
   "cell_type": "code",
   "execution_count": null,
   "metadata": {},
   "outputs": [],
   "source": []
  }
 ],
 "metadata": {
  "kernelspec": {
   "display_name": "base",
   "language": "python",
   "name": "python3"
  },
  "language_info": {
   "codemirror_mode": {
    "name": "ipython",
    "version": 3
   },
   "file_extension": ".py",
   "mimetype": "text/x-python",
   "name": "python",
   "nbconvert_exporter": "python",
   "pygments_lexer": "ipython3",
   "version": "3.12.7"
  }
 },
 "nbformat": 4,
 "nbformat_minor": 2
}
